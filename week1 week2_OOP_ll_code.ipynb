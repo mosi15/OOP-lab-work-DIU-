{
  "nbformat": 4,
  "nbformat_minor": 0,
  "metadata": {
    "colab": {
      "name": "Copy of OOP-ll code.ipynb",
      "provenance": [],
      "include_colab_link": true
    },
    "kernelspec": {
      "name": "python3",
      "display_name": "Python 3"
    }
  },
  "cells": [
    {
      "cell_type": "markdown",
      "metadata": {
        "id": "view-in-github",
        "colab_type": "text"
      },
      "source": [
        "<a href=\"https://colab.research.google.com/github/mosi15/OOP-lab-work-DIU-/blob/master/week1%20week2_OOP_ll_code.ipynb\" target=\"_parent\"><img src=\"https://colab.research.google.com/assets/colab-badge.svg\" alt=\"Open In Colab\"/></a>"
      ]
    },
    {
      "cell_type": "markdown",
      "metadata": {
        "id": "OPWYvVwDnSaK"
      },
      "source": [
        "My Python First Program \"Print HeLLo World\"¶\n"
      ]
    },
    {
      "cell_type": "code",
      "metadata": {
        "id": "coDkoeJdnbGh",
        "outputId": "56054abc-ebd3-4fb3-d5aa-67bb0a6e9680",
        "colab": {
          "base_uri": "https://localhost:8080/",
          "height": 34
        }
      },
      "source": [
        "print(\"Hello World\")"
      ],
      "execution_count": null,
      "outputs": [
        {
          "output_type": "stream",
          "text": [
            "Hello World\n"
          ],
          "name": "stdout"
        }
      ]
    },
    {
      "cell_type": "code",
      "metadata": {
        "id": "Rz5s9PKqgg51"
      },
      "source": [
        ""
      ],
      "execution_count": null,
      "outputs": []
    },
    {
      "cell_type": "markdown",
      "metadata": {
        "id": "252ul6YFnxCF"
      },
      "source": [
        "\n",
        "Variables and Assignment Statements"
      ]
    },
    {
      "cell_type": "code",
      "metadata": {
        "id": "2h6V6Y4Yn2ot",
        "outputId": "339e7dd1-f84c-45e6-b182-b4e742e3a5c5",
        "colab": {
          "base_uri": "https://localhost:8080/",
          "height": 34
        }
      },
      "source": [
        "x=7\n",
        "y=3\n",
        "print(x+y)"
      ],
      "execution_count": null,
      "outputs": [
        {
          "output_type": "stream",
          "text": [
            "10\n"
          ],
          "name": "stdout"
        }
      ]
    },
    {
      "cell_type": "code",
      "metadata": {
        "id": "UrrfOS4woG8L",
        "outputId": "f0534ebb-7fd8-4d76-f046-cd7b3dd64d6e",
        "colab": {
          "base_uri": "https://localhost:8080/",
          "height": 34
        }
      },
      "source": [
        "total = x+y\n",
        "print(total)"
      ],
      "execution_count": null,
      "outputs": [
        {
          "output_type": "stream",
          "text": [
            "10\n"
          ],
          "name": "stdout"
        }
      ]
    },
    {
      "cell_type": "code",
      "metadata": {
        "id": "_UzdJnQ6oN_I",
        "outputId": "01ba1d61-c6dc-40e1-bb88-d045916de919",
        "colab": {
          "base_uri": "https://localhost:8080/",
          "height": 34
        }
      },
      "source": [
        "\n",
        "name = \"Adam\"\n",
        "name2 = \"Eva\"\n",
        "print(name , name2)"
      ],
      "execution_count": null,
      "outputs": [
        {
          "output_type": "stream",
          "text": [
            "Adam Eva\n"
          ],
          "name": "stdout"
        }
      ]
    },
    {
      "cell_type": "markdown",
      "metadata": {
        "id": "wWBkufMgoZsG"
      },
      "source": [
        "Types"
      ]
    },
    {
      "cell_type": "code",
      "metadata": {
        "id": "4LXtJPwSojqc"
      },
      "source": [
        "x =10\n",
        "type(x)"
      ],
      "execution_count": null,
      "outputs": []
    },
    {
      "cell_type": "code",
      "metadata": {
        "id": "8hg4e7Iooo2f",
        "outputId": "8a48c858-c497-4147-bdfb-fd978ff5c20f",
        "colab": {
          "base_uri": "https://localhost:8080/",
          "height": 34
        }
      },
      "source": [
        "type(10.5)"
      ],
      "execution_count": null,
      "outputs": [
        {
          "output_type": "execute_result",
          "data": {
            "text/plain": [
              "float"
            ]
          },
          "metadata": {
            "tags": []
          },
          "execution_count": 5
        }
      ]
    },
    {
      "cell_type": "code",
      "metadata": {
        "id": "rRSZFy6bo2Qj",
        "outputId": "d5d6a8e2-8cc3-428b-ce6c-b8112b5e79c4",
        "colab": {
          "base_uri": "https://localhost:8080/",
          "height": 34
        }
      },
      "source": [
        "type(name)"
      ],
      "execution_count": null,
      "outputs": [
        {
          "output_type": "execute_result",
          "data": {
            "text/plain": [
              "str"
            ]
          },
          "metadata": {
            "tags": []
          },
          "execution_count": 6
        }
      ]
    },
    {
      "cell_type": "markdown",
      "metadata": {
        "id": "KyNMdhvjo_ha"
      },
      "source": [
        "Arithmetic operators"
      ]
    },
    {
      "cell_type": "code",
      "metadata": {
        "id": "-BC5U7VKpVAz",
        "outputId": "0b39a447-0795-436e-9e08-8d16c8322116",
        "colab": {
          "base_uri": "https://localhost:8080/",
          "height": 34
        }
      },
      "source": [
        "multiplication = 7*4\n",
        "print(multiplication)"
      ],
      "execution_count": null,
      "outputs": [
        {
          "output_type": "stream",
          "text": [
            "28\n"
          ],
          "name": "stdout"
        }
      ]
    },
    {
      "cell_type": "code",
      "metadata": {
        "id": "AAIo_YlOprUT",
        "outputId": "e69b96f3-b204-4c28-e5b1-1b3ada120a47",
        "colab": {
          "base_uri": "https://localhost:8080/",
          "height": 34
        }
      },
      "source": [
        "add = 10+15\n",
        "print(add)"
      ],
      "execution_count": null,
      "outputs": [
        {
          "output_type": "stream",
          "text": [
            "25\n"
          ],
          "name": "stdout"
        }
      ]
    },
    {
      "cell_type": "code",
      "metadata": {
        "id": "p8K6JJt0pxEq",
        "outputId": "0d1c4874-78c9-4f01-db7c-ec101ac2ce1b",
        "colab": {
          "base_uri": "https://localhost:8080/",
          "height": 34
        }
      },
      "source": [
        "sub = 40-8\n",
        "print(sub)"
      ],
      "execution_count": null,
      "outputs": [
        {
          "output_type": "stream",
          "text": [
            "32\n"
          ],
          "name": "stdout"
        }
      ]
    },
    {
      "cell_type": "code",
      "metadata": {
        "id": "KvC9UMf1p6x9",
        "outputId": "f6152298-6b64-4606-93b7-ba528227c6a2",
        "colab": {
          "base_uri": "https://localhost:8080/",
          "height": 34
        }
      },
      "source": [
        "Exponentiation = 2**10\n",
        "print(Exponentiation)"
      ],
      "execution_count": null,
      "outputs": [
        {
          "output_type": "stream",
          "text": [
            "1024\n"
          ],
          "name": "stdout"
        }
      ]
    },
    {
      "cell_type": "code",
      "metadata": {
        "id": "WjlW0htLqEWy",
        "outputId": "dcf731cb-26a2-49d3-c463-bea23a8c7c97",
        "colab": {
          "base_uri": "https://localhost:8080/",
          "height": 34
        }
      },
      "source": [
        "True_Division = 7/4\n",
        "print(True_Division)"
      ],
      "execution_count": null,
      "outputs": [
        {
          "output_type": "stream",
          "text": [
            "1.75\n"
          ],
          "name": "stdout"
        }
      ]
    },
    {
      "cell_type": "code",
      "metadata": {
        "id": "9KvuEWQuqVqS",
        "outputId": "dd94e053-f6c8-4ebc-d664-c5179114a49c",
        "colab": {
          "base_uri": "https://localhost:8080/",
          "height": 34
        }
      },
      "source": [
        "Floor_Division = 7//4\n",
        "print(Floor_Division)"
      ],
      "execution_count": null,
      "outputs": [
        {
          "output_type": "stream",
          "text": [
            "1\n"
          ],
          "name": "stdout"
        }
      ]
    },
    {
      "cell_type": "code",
      "metadata": {
        "id": "jIpKXuh5qzb6",
        "outputId": "30e8dcc7-c8a8-4283-ffad-4b22d1cb139b",
        "colab": {
          "base_uri": "https://localhost:8080/",
          "height": 34
        }
      },
      "source": [
        "remainder = 15%7\n",
        "print(remainder)"
      ],
      "execution_count": null,
      "outputs": [
        {
          "output_type": "stream",
          "text": [
            "1\n"
          ],
          "name": "stdout"
        }
      ]
    },
    {
      "cell_type": "markdown",
      "metadata": {
        "id": "0Qj7iDWcrs0D"
      },
      "source": [
        "Relational Operators"
      ]
    },
    {
      "cell_type": "code",
      "metadata": {
        "id": "Ngy8AGJCrzWT"
      },
      "source": [
        "x = 105\n",
        "y = 100"
      ],
      "execution_count": null,
      "outputs": []
    },
    {
      "cell_type": "code",
      "metadata": {
        "id": "dUfRxjmVsERX",
        "outputId": "edd14bd1-7798-434d-e01b-5b1272633aab",
        "colab": {
          "base_uri": "https://localhost:8080/",
          "height": 34
        }
      },
      "source": [
        "x>y"
      ],
      "execution_count": null,
      "outputs": [
        {
          "output_type": "execute_result",
          "data": {
            "text/plain": [
              "True"
            ]
          },
          "metadata": {
            "tags": []
          },
          "execution_count": 17
        }
      ]
    },
    {
      "cell_type": "code",
      "metadata": {
        "id": "ppLCdmv9sHij",
        "outputId": "931c4285-43f9-440f-9810-d0a65a16bdd9",
        "colab": {
          "base_uri": "https://localhost:8080/",
          "height": 34
        }
      },
      "source": [
        "x<y"
      ],
      "execution_count": null,
      "outputs": [
        {
          "output_type": "execute_result",
          "data": {
            "text/plain": [
              "False"
            ]
          },
          "metadata": {
            "tags": []
          },
          "execution_count": 18
        }
      ]
    },
    {
      "cell_type": "code",
      "metadata": {
        "id": "dSsEWXBcsVq4",
        "outputId": "5d476fd1-0b75-4b4a-85f1-c49e11711d38",
        "colab": {
          "base_uri": "https://localhost:8080/",
          "height": 34
        }
      },
      "source": [
        "x==y"
      ],
      "execution_count": null,
      "outputs": [
        {
          "output_type": "execute_result",
          "data": {
            "text/plain": [
              "False"
            ]
          },
          "metadata": {
            "tags": []
          },
          "execution_count": 19
        }
      ]
    },
    {
      "cell_type": "code",
      "metadata": {
        "id": "MIg0FxWYsdLD",
        "outputId": "2c53ea74-52e8-403e-9375-8500bb3a8168",
        "colab": {
          "base_uri": "https://localhost:8080/",
          "height": 34
        }
      },
      "source": [
        "x!=y"
      ],
      "execution_count": null,
      "outputs": [
        {
          "output_type": "execute_result",
          "data": {
            "text/plain": [
              "True"
            ]
          },
          "metadata": {
            "tags": []
          },
          "execution_count": 20
        }
      ]
    },
    {
      "cell_type": "code",
      "metadata": {
        "id": "Tz84qKXXtHmp",
        "outputId": "6d80b067-ceb8-42b6-dba7-ebdca07a824b",
        "colab": {
          "base_uri": "https://localhost:8080/",
          "height": 34
        }
      },
      "source": [
        "x>=y"
      ],
      "execution_count": null,
      "outputs": [
        {
          "output_type": "execute_result",
          "data": {
            "text/plain": [
              "True"
            ]
          },
          "metadata": {
            "tags": []
          },
          "execution_count": 21
        }
      ]
    },
    {
      "cell_type": "code",
      "metadata": {
        "id": "fOKkGghMtMAH",
        "outputId": "3e5159dc-09f2-414d-80c8-d6c405427c06",
        "colab": {
          "base_uri": "https://localhost:8080/",
          "height": 34
        }
      },
      "source": [
        "x<=y"
      ],
      "execution_count": null,
      "outputs": [
        {
          "output_type": "execute_result",
          "data": {
            "text/plain": [
              "False"
            ]
          },
          "metadata": {
            "tags": []
          },
          "execution_count": 22
        }
      ]
    },
    {
      "cell_type": "markdown",
      "metadata": {
        "id": "VJUKujq6tZsc"
      },
      "source": [
        "Chaining Comparisons"
      ]
    },
    {
      "cell_type": "code",
      "metadata": {
        "id": "chxuMdhItmaK"
      },
      "source": [
        "x = 3\n",
        "y = 10"
      ],
      "execution_count": null,
      "outputs": []
    },
    {
      "cell_type": "code",
      "metadata": {
        "id": "9wti28P4txoL",
        "outputId": "6d70034c-6d4a-4aa0-d306-17c082b4a425",
        "colab": {
          "base_uri": "https://localhost:8080/",
          "height": 34
        }
      },
      "source": [
        "1 <= x <= 5"
      ],
      "execution_count": null,
      "outputs": [
        {
          "output_type": "execute_result",
          "data": {
            "text/plain": [
              "True"
            ]
          },
          "metadata": {
            "tags": []
          },
          "execution_count": 25
        }
      ]
    },
    {
      "cell_type": "code",
      "metadata": {
        "id": "QzyFIE75t3s9",
        "outputId": "9075c708-1bb2-4547-cdb6-7e017b876f2d",
        "colab": {
          "base_uri": "https://localhost:8080/",
          "height": 34
        }
      },
      "source": [
        "1 <= y <= 5"
      ],
      "execution_count": null,
      "outputs": [
        {
          "output_type": "execute_result",
          "data": {
            "text/plain": [
              "False"
            ]
          },
          "metadata": {
            "tags": []
          },
          "execution_count": 26
        }
      ]
    },
    {
      "cell_type": "markdown",
      "metadata": {
        "id": "Vjf06hfJuLif"
      },
      "source": [
        "\n",
        "Print Function"
      ]
    },
    {
      "cell_type": "markdown",
      "metadata": {
        "id": "Sa6N3pNQvJFz"
      },
      "source": [
        "\n",
        "Printing a Comma-Separated List of Items"
      ]
    },
    {
      "cell_type": "code",
      "metadata": {
        "id": "5o8umBvjvLjb",
        "outputId": "77b85bc1-a75f-4e20-925e-8c83affe74b9",
        "colab": {
          "base_uri": "https://localhost:8080/",
          "height": 34
        }
      },
      "source": [
        "print('Welcome', 'to', 'Python!')"
      ],
      "execution_count": null,
      "outputs": [
        {
          "output_type": "stream",
          "text": [
            "Welcome to Python!\n"
          ],
          "name": "stdout"
        }
      ]
    },
    {
      "cell_type": "code",
      "metadata": {
        "id": "DMoMzNOxvWwk",
        "outputId": "b768ce16-c555-499c-f306-66d3282a98d8",
        "colab": {
          "base_uri": "https://localhost:8080/",
          "height": 85
        }
      },
      "source": [
        "print('Welcome\\nto\\n\\nPython!')"
      ],
      "execution_count": null,
      "outputs": [
        {
          "output_type": "stream",
          "text": [
            "Welcome\n",
            "to\n",
            "\n",
            "Python!\n"
          ],
          "name": "stdout"
        }
      ]
    },
    {
      "cell_type": "code",
      "metadata": {
        "id": "-c2hvUjiwQ_k",
        "outputId": "057c1ba5-ab19-40b9-f95a-c9b72bdff541",
        "colab": {
          "base_uri": "https://localhost:8080/",
          "height": 85
        }
      },
      "source": [
        "print('Welcome\\nto\\n\\nPython!')"
      ],
      "execution_count": null,
      "outputs": [
        {
          "output_type": "stream",
          "text": [
            "Welcome\n",
            "to\n",
            "\n",
            "Python!\n"
          ],
          "name": "stdout"
        }
      ]
    },
    {
      "cell_type": "markdown",
      "metadata": {
        "id": "MmYTXY1lwhrs"
      },
      "source": [
        "The following table shows some common escape sequences.Picture1.png\n",
        "\n",
        "Ignoring a Line Break in a Long String"
      ]
    },
    {
      "cell_type": "code",
      "metadata": {
        "id": "F4tzX_aOwlXk",
        "outputId": "3126852e-b90c-4641-a224-f798c5d819a2",
        "colab": {
          "base_uri": "https://localhost:8080/",
          "height": 34
        }
      },
      "source": [
        "print('this is a longer string, so we \\\n",
        " split it over two lines')"
      ],
      "execution_count": null,
      "outputs": [
        {
          "output_type": "stream",
          "text": [
            "this is a longer string, so we  split it over two lines\n"
          ],
          "name": "stdout"
        }
      ]
    },
    {
      "cell_type": "code",
      "metadata": {
        "id": "B9BEOTdsw4XC",
        "outputId": "fb1d955b-f6d1-4595-9812-df984a61c900",
        "colab": {
          "base_uri": "https://localhost:8080/",
          "height": 34
        }
      },
      "source": [
        "print('Sum is', 7 + 3)"
      ],
      "execution_count": null,
      "outputs": [
        {
          "output_type": "stream",
          "text": [
            "Sum is 10\n"
          ],
          "name": "stdout"
        }
      ]
    },
    {
      "cell_type": "code",
      "metadata": {
        "id": "s8E5aBByxCa5",
        "outputId": "027099d5-c94e-425a-f6a6-a1106c2c147a",
        "colab": {
          "base_uri": "https://localhost:8080/",
          "height": 34
        }
      },
      "source": [
        "print('int(5.2)', 'truncates 5.2 to', int(5.2))"
      ],
      "execution_count": null,
      "outputs": [
        {
          "output_type": "stream",
          "text": [
            "int(5.2) truncates 5.2 to 5\n"
          ],
          "name": "stdout"
        }
      ]
    },
    {
      "cell_type": "code",
      "metadata": {
        "id": "-SlQ0mFQxFlz"
      },
      "source": [
        "print('Display \"hi\" in quotes')"
      ],
      "execution_count": null,
      "outputs": []
    },
    {
      "cell_type": "code",
      "metadata": {
        "id": "KuPrtioQxYpK",
        "outputId": "d271041f-4a49-47c9-df70-d0d7d9d37fea",
        "colab": {
          "base_uri": "https://localhost:8080/",
          "height": 34
        }
      },
      "source": [
        "print('Display \\'hi\\' in quotes')   #using the \\' escape sequence:"
      ],
      "execution_count": null,
      "outputs": [
        {
          "output_type": "stream",
          "text": [
            "Display 'hi' in quotes\n"
          ],
          "name": "stdout"
        }
      ]
    },
    {
      "cell_type": "code",
      "metadata": {
        "id": "LLL2EXsixcvr",
        "outputId": "b1df6d82-40d4-4417-90c2-e9dd716108cf",
        "colab": {
          "base_uri": "https://localhost:8080/",
          "height": 34
        }
      },
      "source": [
        "print(\"Display the name O'Brien\")"
      ],
      "execution_count": null,
      "outputs": [
        {
          "output_type": "stream",
          "text": [
            "Display the name O'Brien\n"
          ],
          "name": "stdout"
        }
      ]
    },
    {
      "cell_type": "code",
      "metadata": {
        "id": "e7QWv57bxfXg"
      },
      "source": [
        ""
      ],
      "execution_count": null,
      "outputs": []
    },
    {
      "cell_type": "code",
      "metadata": {
        "id": "vJGZSv85xiLD",
        "outputId": "b133c8a5-8ac6-4aa5-d333-559d7e7d105e",
        "colab": {
          "base_uri": "https://localhost:8080/",
          "height": 34
        }
      },
      "source": [
        "print(\"Display \\\"hi\\\" in quotes\")"
      ],
      "execution_count": null,
      "outputs": [
        {
          "output_type": "stream",
          "text": [
            "Display \"hi\" in quotes\n"
          ],
          "name": "stdout"
        }
      ]
    },
    {
      "cell_type": "code",
      "metadata": {
        "id": "ciOFudPgxlyN",
        "outputId": "526513f0-4fac-4565-916c-18c266257931",
        "colab": {
          "base_uri": "https://localhost:8080/",
          "height": 34
        }
      },
      "source": [
        "print(\"\"\"Display \"hi\" and 'bye' in quotes\"\"\")\n"
      ],
      "execution_count": null,
      "outputs": [
        {
          "output_type": "stream",
          "text": [
            "Display \"hi\" and 'bye' in quotes\n"
          ],
          "name": "stdout"
        }
      ]
    },
    {
      "cell_type": "code",
      "metadata": {
        "id": "qCBxblkTyJaJ"
      },
      "source": [
        "triple_quoted_string = \"\"\"This is a triple-quoted\n",
        "string that spans two lines\"\"\"\n"
      ],
      "execution_count": null,
      "outputs": []
    },
    {
      "cell_type": "code",
      "metadata": {
        "id": "2U6S5UouyRnu",
        "outputId": "7057a10a-03d3-450c-e4c5-a6374b991ae3",
        "colab": {
          "base_uri": "https://localhost:8080/",
          "height": 51
        }
      },
      "source": [
        "print(triple_quoted_string)"
      ],
      "execution_count": null,
      "outputs": [
        {
          "output_type": "stream",
          "text": [
            "This is a triple-quoted\n",
            "string that spans two lines\n"
          ],
          "name": "stdout"
        }
      ]
    },
    {
      "cell_type": "code",
      "metadata": {
        "id": "WkGmSwT1yXLl",
        "outputId": "610af6be-1b79-4b64-d898-09711a5e12ab",
        "colab": {
          "base_uri": "https://localhost:8080/",
          "height": 35
        }
      },
      "source": [
        "triple_quoted_string"
      ],
      "execution_count": null,
      "outputs": [
        {
          "output_type": "execute_result",
          "data": {
            "application/vnd.google.colaboratory.intrinsic+json": {
              "type": "string"
            },
            "text/plain": [
              "'This is a triple-quoted\\nstring that spans two lines'"
            ]
          },
          "metadata": {
            "tags": []
          },
          "execution_count": 39
        }
      ]
    },
    {
      "cell_type": "code",
      "metadata": {
        "id": "oYKLK-7fyeYN",
        "outputId": "4f211e33-bf24-42d4-adcd-3bfa52ee45a2",
        "colab": {
          "base_uri": "https://localhost:8080/",
          "height": 68
        }
      },
      "source": [
        "print(\"\"\"This is a lengthy\n",
        "multiline string containing\n",
        "a few lines \\\n",
        "of text\"\"\")"
      ],
      "execution_count": null,
      "outputs": [
        {
          "output_type": "stream",
          "text": [
            "This is a lengthy\n",
            "multiline string containing\n",
            "a few lines of text\n"
          ],
          "name": "stdout"
        }
      ]
    },
    {
      "cell_type": "markdown",
      "metadata": {
        "id": "pHePq6nRynFM"
      },
      "source": [
        "Precision Handling in Python"
      ]
    },
    {
      "cell_type": "code",
      "metadata": {
        "id": "6G8ME3PQyoo5"
      },
      "source": [
        "a = 3.4536475856"
      ],
      "execution_count": null,
      "outputs": []
    },
    {
      "cell_type": "code",
      "metadata": {
        "id": "2k1MJI4Cytxv",
        "outputId": "97879969-e884-4558-da0b-5299fb014e4f",
        "colab": {
          "base_uri": "https://localhost:8080/",
          "height": 34
        }
      },
      "source": [
        "# using \"%\" to print value till 2 decimal places  \n",
        "print (\"The value of number till 2 decimal place(using %) is : \",end=\"\") \n",
        "print ('%.2f' %a)"
      ],
      "execution_count": null,
      "outputs": [
        {
          "output_type": "stream",
          "text": [
            "The value of number till 2 decimal place(using %) is : 3.45\n"
          ],
          "name": "stdout"
        }
      ]
    },
    {
      "cell_type": "code",
      "metadata": {
        "id": "gjegRZ5By3BH",
        "outputId": "f1e58769-f9ee-4e72-b7b2-2e616b1c5b30",
        "colab": {
          "base_uri": "https://localhost:8080/",
          "height": 34
        }
      },
      "source": [
        "# using \"%\" to print value till 4 decimal places  \n",
        "print (\"The value of number till 2 decimal place(using %) is : \",end=\"\") \n",
        "print ('%.4f' %a)"
      ],
      "execution_count": null,
      "outputs": [
        {
          "output_type": "stream",
          "text": [
            "The value of number till 2 decimal place(using %) is : 3.4536\n"
          ],
          "name": "stdout"
        }
      ]
    },
    {
      "cell_type": "markdown",
      "metadata": {
        "id": "YjQwWG3Vy8vf"
      },
      "source": [
        "Getting Input from the User"
      ]
    },
    {
      "cell_type": "code",
      "metadata": {
        "id": "4C9sOx4AzOAY"
      },
      "source": [
        "name = input(\"What's your name? \")"
      ],
      "execution_count": null,
      "outputs": []
    },
    {
      "cell_type": "code",
      "metadata": {
        "id": "W4aYeHyhzY1i"
      },
      "source": [
        "print(name)"
      ],
      "execution_count": null,
      "outputs": []
    },
    {
      "cell_type": "code",
      "metadata": {
        "id": "nBI6WHVC1TZC"
      },
      "source": [
        "total = value1 + value2\n",
        "print(total)"
      ],
      "execution_count": null,
      "outputs": []
    },
    {
      "cell_type": "code",
      "metadata": {
        "id": "iXAUnBNa1y-X",
        "outputId": "ff5f6390-d677-481c-e801-6857ea537a54",
        "colab": {
          "base_uri": "https://localhost:8080/",
          "height": 34
        }
      },
      "source": [
        "type(total) #python takes input as a string we have to type cast the input"
      ],
      "execution_count": null,
      "outputs": [
        {
          "output_type": "execute_result",
          "data": {
            "text/plain": [
              "int"
            ]
          },
          "metadata": {
            "tags": []
          },
          "execution_count": 52
        }
      ]
    },
    {
      "cell_type": "code",
      "metadata": {
        "id": "uJF0SqXQ2Bfi",
        "outputId": "db5cd7d3-fea7-4a03-965c-10df163b89b5",
        "colab": {
          "base_uri": "https://localhost:8080/",
          "height": 34
        }
      },
      "source": [
        "total = int(value1) + int(value2) #type casting to int format\n",
        "print(total)\n"
      ],
      "execution_count": null,
      "outputs": [
        {
          "output_type": "stream",
          "text": [
            "70\n"
          ],
          "name": "stdout"
        }
      ]
    },
    {
      "cell_type": "markdown",
      "metadata": {
        "id": "s_w3gMHv2Jwe"
      },
      "source": [
        "Getting an Integer from the User by casting the input format"
      ]
    },
    {
      "cell_type": "code",
      "metadata": {
        "id": "8JHfZx_42RUF",
        "outputId": "c321b2e2-1cd8-4a6f-c593-01ff7164bedc",
        "colab": {
          "base_uri": "https://localhost:8080/",
          "height": 34
        }
      },
      "source": [
        "another_value = int(input('Enter another integer: '))"
      ],
      "execution_count": null,
      "outputs": [
        {
          "output_type": "stream",
          "text": [
            "Enter another integer: 10\n"
          ],
          "name": "stdout"
        }
      ]
    },
    {
      "cell_type": "code",
      "metadata": {
        "id": "NWoSj3mH3cz_",
        "outputId": "fb97026f-e7c7-4777-c3bd-6128c78c94fe",
        "colab": {
          "base_uri": "https://localhost:8080/",
          "height": 34
        }
      },
      "source": [
        "print(another_value)"
      ],
      "execution_count": null,
      "outputs": [
        {
          "output_type": "stream",
          "text": [
            "10\n"
          ],
          "name": "stdout"
        }
      ]
    },
    {
      "cell_type": "markdown",
      "metadata": {
        "id": "C2wM4b3B3hyw"
      },
      "source": [
        "Taking multiple input from the user"
      ]
    },
    {
      "cell_type": "code",
      "metadata": {
        "id": "OqaqCFin3tPe",
        "outputId": "96ab6432-adb6-423a-904e-64e1ba1b47d2",
        "colab": {
          "base_uri": "https://localhost:8080/",
          "height": 34
        }
      },
      "source": [
        "a, b = input().split()"
      ],
      "execution_count": null,
      "outputs": [
        {
          "output_type": "stream",
          "text": [
            "10 20\n"
          ],
          "name": "stdout"
        }
      ]
    },
    {
      "cell_type": "code",
      "metadata": {
        "id": "zGV5iG954Hky",
        "outputId": "0325f5f3-b945-4cf9-9241-00f1be754cb7",
        "colab": {
          "base_uri": "https://localhost:8080/",
          "height": 34
        }
      },
      "source": [
        "print(a , b)"
      ],
      "execution_count": null,
      "outputs": [
        {
          "output_type": "stream",
          "text": [
            "10 20\n"
          ],
          "name": "stdout"
        }
      ]
    },
    {
      "cell_type": "code",
      "metadata": {
        "id": "sm4p51fk4RBy",
        "outputId": "3c595910-c583-4737-a37b-b3287a183263",
        "colab": {
          "base_uri": "https://localhost:8080/",
          "height": 34
        }
      },
      "source": [
        "print(type(a))"
      ],
      "execution_count": null,
      "outputs": [
        {
          "output_type": "stream",
          "text": [
            "<class 'str'>\n"
          ],
          "name": "stdout"
        }
      ]
    },
    {
      "cell_type": "markdown",
      "metadata": {
        "id": "8mlYTg4N4ZfC"
      },
      "source": [
        "Solving Problem¶\n",
        "Determining the Minimum and Maximum with Built-In Functions min and max"
      ]
    },
    {
      "cell_type": "code",
      "metadata": {
        "id": "6lDZXeQL4jOs",
        "outputId": "c4aa82dc-2030-4d22-cc97-42d481bc3bd7",
        "colab": {
          "base_uri": "https://localhost:8080/",
          "height": 68
        }
      },
      "source": [
        "number1 = int(input('Enter first integer: '))\n",
        "number2 = int(input('Enter second integer: '))\n",
        "number3 = int(input('Enter third integer: '))"
      ],
      "execution_count": null,
      "outputs": [
        {
          "output_type": "stream",
          "text": [
            "Enter first integer: 20\n",
            "Enter second integer: 50\n",
            "Enter third integer: 100\n"
          ],
          "name": "stdout"
        }
      ]
    },
    {
      "cell_type": "code",
      "metadata": {
        "id": "Fj1bTGFW477S",
        "outputId": "a4a02b9b-3656-4b63-9c88-f2d473201c1f",
        "colab": {
          "base_uri": "https://localhost:8080/",
          "height": 34
        }
      },
      "source": [
        "min(number1,number2,number3)"
      ],
      "execution_count": null,
      "outputs": [
        {
          "output_type": "execute_result",
          "data": {
            "text/plain": [
              "20"
            ]
          },
          "metadata": {
            "tags": []
          },
          "execution_count": 64
        }
      ]
    },
    {
      "cell_type": "code",
      "metadata": {
        "id": "1sG9n7CZ5Em8",
        "outputId": "7d2f137c-8945-4f60-82b5-67b3c1d69243",
        "colab": {
          "base_uri": "https://localhost:8080/",
          "height": 34
        }
      },
      "source": [
        "max(number1,number2,number3)"
      ],
      "execution_count": null,
      "outputs": [
        {
          "output_type": "execute_result",
          "data": {
            "text/plain": [
              "100"
            ]
          },
          "metadata": {
            "tags": []
          },
          "execution_count": 65
        }
      ]
    },
    {
      "cell_type": "markdown",
      "metadata": {
        "id": "NUabUej8C4aI"
      },
      "source": [
        "\n",
        "IF statement"
      ]
    },
    {
      "cell_type": "code",
      "metadata": {
        "id": "h0M0miqqC855",
        "outputId": "9023bffb-2c40-4251-d21e-fc19232347b4",
        "colab": {
          "base_uri": "https://localhost:8080/",
          "height": 34
        }
      },
      "source": [
        "grade = 85\n",
        "if grade>=60:\n",
        "  print(\"passed\")"
      ],
      "execution_count": null,
      "outputs": [
        {
          "output_type": "stream",
          "text": [
            "passed\n"
          ],
          "name": "stdout"
        }
      ]
    },
    {
      "cell_type": "markdown",
      "metadata": {
        "id": "MQeyh7EnDEdg"
      },
      "source": [
        "\n",
        "If else statement"
      ]
    },
    {
      "cell_type": "code",
      "metadata": {
        "id": "HD-2aUUfDH1x",
        "outputId": "cd89c607-be59-4d5a-cb66-1ba869878e28",
        "colab": {
          "base_uri": "https://localhost:8080/",
          "height": 34
        }
      },
      "source": [
        "grade =85\n",
        "if grade>=60:\n",
        "  print(\"passed\")\n",
        "else:\n",
        "  print(\"fail\")"
      ],
      "execution_count": null,
      "outputs": [
        {
          "output_type": "stream",
          "text": [
            "passed\n"
          ],
          "name": "stdout"
        }
      ]
    },
    {
      "cell_type": "code",
      "metadata": {
        "id": "-Xo-dTzzDzdv",
        "outputId": "1d9844d6-e039-48ef-9caf-e54f93c2bd1d",
        "colab": {
          "base_uri": "https://localhost:8080/",
          "height": 34
        }
      },
      "source": [
        "grade = 77\n",
        "\n",
        "if grade >= 90:\n",
        "    print('A')\n",
        "elif grade >= 80:\n",
        "    print('B')\n",
        "elif grade >= 70:\n",
        "    print('C')\n",
        "elif grade >= 60:\n",
        "    print('D')\n",
        "else:\n",
        "    print('F')\n"
      ],
      "execution_count": null,
      "outputs": [
        {
          "output_type": "stream",
          "text": [
            "C\n"
          ],
          "name": "stdout"
        }
      ]
    },
    {
      "cell_type": "markdown",
      "metadata": {
        "id": "UqE5gFwZD7SE"
      },
      "source": [
        "While Statement"
      ]
    },
    {
      "cell_type": "code",
      "metadata": {
        "id": "EvXN2jadDzYX",
        "outputId": "759b7689-6c9e-4d67-d905-d69418751c43",
        "colab": {
          "base_uri": "https://localhost:8080/",
          "height": 34
        }
      },
      "source": [
        "number = 1\n",
        "\n",
        "while (number<10):\n",
        "  print(number, end=\" \") #print in same line with space using end =\" \"\n",
        "  number+=1"
      ],
      "execution_count": null,
      "outputs": [
        {
          "output_type": "stream",
          "text": [
            "1 2 3 4 5 6 7 8 9 "
          ],
          "name": "stdout"
        }
      ]
    },
    {
      "cell_type": "code",
      "metadata": {
        "id": "abxp2-6XEEX6"
      },
      "source": [
        "product = 3\n",
        "\n",
        "while product<=50:\n",
        "  product = product*3"
      ],
      "execution_count": null,
      "outputs": []
    },
    {
      "cell_type": "code",
      "metadata": {
        "id": "dAB8oblbEH1r",
        "outputId": "536c31b2-2a3a-43b9-eeea-3840aae84f33",
        "colab": {
          "base_uri": "https://localhost:8080/",
          "height": 34
        }
      },
      "source": [
        "print(product)"
      ],
      "execution_count": null,
      "outputs": [
        {
          "output_type": "stream",
          "text": [
            "81\n"
          ],
          "name": "stdout"
        }
      ]
    },
    {
      "cell_type": "markdown",
      "metadata": {
        "id": "e0yhFrTEEMBD"
      },
      "source": [
        "For statement"
      ]
    },
    {
      "cell_type": "code",
      "metadata": {
        "id": "0wwR9S62EQo1",
        "outputId": "ff0208c2-1747-43b1-9e85-44fb2ee04be1",
        "colab": {
          "base_uri": "https://localhost:8080/",
          "height": 34
        }
      },
      "source": [
        "for character in \"programming\":\n",
        "  print(character, end=\" \")"
      ],
      "execution_count": null,
      "outputs": [
        {
          "output_type": "stream",
          "text": [
            "p r o g r a m m i n g "
          ],
          "name": "stdout"
        }
      ]
    },
    {
      "cell_type": "code",
      "metadata": {
        "id": "xTHRg62cEYI4",
        "outputId": "60006780-4fe8-4d9c-e46a-936a36d5715d",
        "colab": {
          "base_uri": "https://localhost:8080/",
          "height": 34
        }
      },
      "source": [
        "for counter in range(10):\n",
        "  print(counter, end=\" \")"
      ],
      "execution_count": null,
      "outputs": [
        {
          "output_type": "stream",
          "text": [
            "0 1 2 3 4 5 6 7 8 9 "
          ],
          "name": "stdout"
        }
      ]
    },
    {
      "cell_type": "code",
      "metadata": {
        "id": "fPWdP0Z_EcJl",
        "outputId": "7fd17da5-7b73-4805-ee4b-cb9bc43c4220",
        "colab": {
          "base_uri": "https://localhost:8080/",
          "height": 34
        }
      },
      "source": [
        "total = 0\n",
        "for number in range(1000001):\n",
        "  total = total+number\n",
        "\n",
        "print(total)"
      ],
      "execution_count": null,
      "outputs": [
        {
          "output_type": "stream",
          "text": [
            "500000500000\n"
          ],
          "name": "stdout"
        }
      ]
    },
    {
      "cell_type": "code",
      "metadata": {
        "id": "kow396H8EjTz",
        "outputId": "10de3ecf-bbb2-4423-fe5e-9f747257cce9",
        "colab": {
          "base_uri": "https://localhost:8080/",
          "height": 34
        }
      },
      "source": [
        "\n",
        "for number in range(5,10):\n",
        "  print(number, end=\" \")"
      ],
      "execution_count": null,
      "outputs": [
        {
          "output_type": "stream",
          "text": [
            "5 6 7 8 9 "
          ],
          "name": "stdout"
        }
      ]
    },
    {
      "cell_type": "code",
      "metadata": {
        "id": "r9HhLHLfEno9",
        "outputId": "ce156e46-bd05-4581-87d5-dd1991fc8ca2",
        "colab": {
          "base_uri": "https://localhost:8080/",
          "height": 34
        }
      },
      "source": [
        "for number in range(0,10,2):\n",
        "  print(number, end=\" \")"
      ],
      "execution_count": null,
      "outputs": [
        {
          "output_type": "stream",
          "text": [
            "0 2 4 6 8 "
          ],
          "name": "stdout"
        }
      ]
    },
    {
      "cell_type": "code",
      "metadata": {
        "id": "QWzYPbtNErUM",
        "outputId": "379266e2-8af6-4d33-ab79-cd52e1cd77cb",
        "colab": {
          "base_uri": "https://localhost:8080/",
          "height": 34
        }
      },
      "source": [
        "for number in range(10,0,-2):\n",
        "  print(number, end=\" \")"
      ],
      "execution_count": null,
      "outputs": [
        {
          "output_type": "stream",
          "text": [
            "10 8 6 4 2 "
          ],
          "name": "stdout"
        }
      ]
    },
    {
      "cell_type": "code",
      "metadata": {
        "id": "pTj-Ix0WEzME",
        "outputId": "1f73bccd-0c4d-4444-ed4e-ae3690a4e679",
        "colab": {
          "base_uri": "https://localhost:8080/",
          "height": 34
        }
      },
      "source": [
        "number =  int(input())"
      ],
      "execution_count": null,
      "outputs": [
        {
          "output_type": "stream",
          "text": [
            "7\n"
          ],
          "name": "stdout"
        }
      ]
    },
    {
      "cell_type": "code",
      "metadata": {
        "id": "k74_9pA6EzDy",
        "outputId": "ac1173c2-9322-46c3-f2f3-34a3b443004b",
        "colab": {
          "base_uri": "https://localhost:8080/",
          "height": 187
        }
      },
      "source": [
        "for i in range(1,11):\n",
        "  print(number,\"X\",i,\"=\",number*i)"
      ],
      "execution_count": null,
      "outputs": [
        {
          "output_type": "stream",
          "text": [
            "7 X 1 = 7\n",
            "7 X 2 = 14\n",
            "7 X 3 = 21\n",
            "7 X 4 = 28\n",
            "7 X 5 = 35\n",
            "7 X 6 = 42\n",
            "7 X 7 = 49\n",
            "7 X 8 = 56\n",
            "7 X 9 = 63\n",
            "7 X 10 = 70\n"
          ],
          "name": "stdout"
        }
      ]
    },
    {
      "cell_type": "code",
      "metadata": {
        "id": "K2g0VYtyFBIe",
        "outputId": "c77c4a7e-3d78-4233-f666-d878babd921e",
        "colab": {
          "base_uri": "https://localhost:8080/",
          "height": 136
        }
      },
      "source": [
        "for left in range(7):\n",
        "    for right in range(left,7):\n",
        "        print(\"[\"+str(left)+\"|\"+str(right)+\"]\", end =\" \")\n",
        "    print()"
      ],
      "execution_count": null,
      "outputs": [
        {
          "output_type": "stream",
          "text": [
            "[0|0] [0|1] [0|2] [0|3] [0|4] [0|5] [0|6] \n",
            "[1|1] [1|2] [1|3] [1|4] [1|5] [1|6] \n",
            "[2|2] [2|3] [2|4] [2|5] [2|6] \n",
            "[3|3] [3|4] [3|5] [3|6] \n",
            "[4|4] [4|5] [4|6] \n",
            "[5|5] [5|6] \n",
            "[6|6] \n"
          ],
          "name": "stdout"
        }
      ]
    },
    {
      "cell_type": "code",
      "metadata": {
        "id": "HH9IYlK2FBEb",
        "outputId": "5eb7c6ac-970e-4441-c62c-fbf82dade196",
        "colab": {
          "base_uri": "https://localhost:8080/",
          "height": 34
        }
      },
      "source": [
        "for number in range(10):\n",
        "  if  number==5:\n",
        "    break\n",
        "  print(number, end=\" \")"
      ],
      "execution_count": null,
      "outputs": [
        {
          "output_type": "stream",
          "text": [
            "0 1 2 3 4 "
          ],
          "name": "stdout"
        }
      ]
    },
    {
      "cell_type": "code",
      "metadata": {
        "id": "TzaNFgBvFTz7",
        "outputId": "d39634d7-348c-495d-bc58-d3617a0f2b40",
        "colab": {
          "base_uri": "https://localhost:8080/",
          "height": 34
        }
      },
      "source": [
        "for number in range(10):\n",
        "  if  number==5:\n",
        "    continue\n",
        "  print(number, end=\" \")"
      ],
      "execution_count": null,
      "outputs": [
        {
          "output_type": "stream",
          "text": [
            "0 1 2 3 4 6 7 8 9 "
          ],
          "name": "stdout"
        }
      ]
    }
  ]
}